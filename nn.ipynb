{
 "cells": [
  {
   "cell_type": "code",
   "execution_count": 1,
   "metadata": {},
   "outputs": [],
   "source": [
    "from tensorflow.keras.models import Sequential\n",
    "from tensorflow.keras.layers import Dense, Embedding, MaxPooling1D, Conv1D, GlobalMaxPooling1D, Dropout, LSTM, GRU, Flatten, SpatialDropout1D\n",
    "from tensorflow.keras import utils\n",
    "from tensorflow.keras.preprocessing.sequence import pad_sequences\n",
    "from tensorflow.keras.preprocessing.text import Tokenizer\n",
    "from tensorflow.keras.callbacks import ModelCheckpoint\n",
    "import spacy\n",
    "import pandas as pd\n",
    "import numpy as np\n",
    "import matplotlib.pyplot as plt\n",
    "from preprocessing import *"
   ]
  },
  {
   "cell_type": "code",
   "execution_count": 2,
   "metadata": {},
   "outputs": [
    {
     "data": {
      "text/html": [
       "<div>\n",
       "<style scoped>\n",
       "    .dataframe tbody tr th:only-of-type {\n",
       "        vertical-align: middle;\n",
       "    }\n",
       "\n",
       "    .dataframe tbody tr th {\n",
       "        vertical-align: top;\n",
       "    }\n",
       "\n",
       "    .dataframe thead th {\n",
       "        text-align: right;\n",
       "    }\n",
       "</style>\n",
       "<table border=\"1\" class=\"dataframe\">\n",
       "  <thead>\n",
       "    <tr style=\"text-align: right;\">\n",
       "      <th></th>\n",
       "      <th>ID</th>\n",
       "      <th>Text</th>\n",
       "      <th>Class</th>\n",
       "    </tr>\n",
       "  </thead>\n",
       "  <tbody>\n",
       "    <tr>\n",
       "      <th>0</th>\n",
       "      <td>1</td>\n",
       "      <td>Trump supporters needed to say the 4 Democrats...</td>\n",
       "      <td>0</td>\n",
       "    </tr>\n",
       "    <tr>\n",
       "      <th>1</th>\n",
       "      <td>2</td>\n",
       "      <td>Send them back!!Why the hell are they even her...</td>\n",
       "      <td>1</td>\n",
       "    </tr>\n",
       "    <tr>\n",
       "      <th>2</th>\n",
       "      <td>3</td>\n",
       "      <td>Yeah...Im wondering if send them back works fo...</td>\n",
       "      <td>1</td>\n",
       "    </tr>\n",
       "    <tr>\n",
       "      <th>3</th>\n",
       "      <td>4</td>\n",
       "      <td>I know you realize you cant pretend that you d...</td>\n",
       "      <td>1</td>\n",
       "    </tr>\n",
       "    <tr>\n",
       "      <th>4</th>\n",
       "      <td>5</td>\n",
       "      <td>Donny, you owe all people an apology for appla...</td>\n",
       "      <td>0</td>\n",
       "    </tr>\n",
       "  </tbody>\n",
       "</table>\n",
       "</div>"
      ],
      "text/plain": [
       "   ID                                               Text  Class\n",
       "0   1  Trump supporters needed to say the 4 Democrats...      0\n",
       "1   2  Send them back!!Why the hell are they even her...      1\n",
       "2   3  Yeah...Im wondering if send them back works fo...      1\n",
       "3   4  I know you realize you cant pretend that you d...      1\n",
       "4   5  Donny, you owe all people an apology for appla...      0"
      ]
     },
     "execution_count": 2,
     "metadata": {},
     "output_type": "execute_result"
    }
   ],
   "source": [
    "nlp = spacy.load('en_core_web_lg')\n",
    "\n",
    "df = pd.read_csv('TrainingDS.csv')\n",
    "df_sample = pd.read_csv('Sample Submission.csv')\n",
    "df_test = pd.read_csv('TestingDS.csv')\n",
    "df.head()"
   ]
  },
  {
   "cell_type": "code",
   "execution_count": 3,
   "metadata": {},
   "outputs": [
    {
     "name": "stdout",
     "output_type": "stream",
     "text": [
      "preparing\n",
      "TO_LOWER\n",
      "REMOVE_EMOJI\n",
      "REMOVE_EMOTICONS\n",
      "CHAT_WORDS_CONVERSION\n",
      "SPELL_CORRECT\n",
      "ADD_SPACE\n",
      "REMOVE_STOPWORDS\n",
      "REMOVE_URL\n",
      "GET_LEMMA\n",
      "preparing\n",
      "TO_LOWER\n",
      "REMOVE_EMOJI\n",
      "REMOVE_EMOTICONS\n",
      "CHAT_WORDS_CONVERSION\n",
      "SPELL_CORRECT\n",
      "ADD_SPACE\n",
      "REMOVE_STOPWORDS\n",
      "REMOVE_URL\n",
      "GET_LEMMA\n"
     ]
    },
    {
     "data": {
      "text/html": [
       "<div>\n",
       "<style scoped>\n",
       "    .dataframe tbody tr th:only-of-type {\n",
       "        vertical-align: middle;\n",
       "    }\n",
       "\n",
       "    .dataframe tbody tr th {\n",
       "        vertical-align: top;\n",
       "    }\n",
       "\n",
       "    .dataframe thead th {\n",
       "        text-align: right;\n",
       "    }\n",
       "</style>\n",
       "<table border=\"1\" class=\"dataframe\">\n",
       "  <thead>\n",
       "    <tr style=\"text-align: right;\">\n",
       "      <th></th>\n",
       "      <th>ID</th>\n",
       "      <th>Text</th>\n",
       "      <th>Class</th>\n",
       "    </tr>\n",
       "  </thead>\n",
       "  <tbody>\n",
       "    <tr>\n",
       "      <th>0</th>\n",
       "      <td>1</td>\n",
       "      <td>trump supporter need 4 democrats socialist squ...</td>\n",
       "      <td>0</td>\n",
       "    </tr>\n",
       "    <tr>\n",
       "      <th>1</th>\n",
       "      <td>2</td>\n",
       "      <td>send back!!why hell -PRON- be sick hearing ifw...</td>\n",
       "      <td>1</td>\n",
       "    </tr>\n",
       "    <tr>\n",
       "      <th>2</th>\n",
       "      <td>3</td>\n",
       "      <td>yeah ... -PRON- be wonder send work wife camp ...</td>\n",
       "      <td>1</td>\n",
       "    </tr>\n",
       "    <tr>\n",
       "      <th>3</th>\n",
       "      <td>4</td>\n",
       "      <td>know realize can not pretend do not know obama...</td>\n",
       "      <td>1</td>\n",
       "    </tr>\n",
       "    <tr>\n",
       "      <th>4</th>\n",
       "      <td>5</td>\n",
       "      <td>donny owe people apology applaud horrible chan...</td>\n",
       "      <td>0</td>\n",
       "    </tr>\n",
       "  </tbody>\n",
       "</table>\n",
       "</div>"
      ],
      "text/plain": [
       "   ID                                               Text  Class\n",
       "0   1  trump supporter need 4 democrats socialist squ...      0\n",
       "1   2  send back!!why hell -PRON- be sick hearing ifw...      1\n",
       "2   3  yeah ... -PRON- be wonder send work wife camp ...      1\n",
       "3   4  know realize can not pretend do not know obama...      1\n",
       "4   5  donny owe people apology applaud horrible chan...      0"
      ]
     },
     "execution_count": 3,
     "metadata": {},
     "output_type": "execute_result"
    }
   ],
   "source": [
    "df = pd.read_csv('TrainingDS.csv')\n",
    "prep_train = PrepareText(df, spell_correct=True, remove_punct=False, get_lemma=True)\n",
    "prep_train.prepare()\n",
    "prep_train.save_file('prep_train.csv')\n",
    "df = prep_train.df\n",
    "\n",
    "df_sample = pd.read_csv('Sample Submission.csv')\n",
    "df_test = pd.read_csv('TestingDS.csv')\n",
    "prep_test = PrepareText(df_test, spell_correct=True, remove_punct=False, get_lemma=True)\n",
    "prep_test.prepare()\n",
    "prep_test.save_file('prep_test.csv')\n",
    "df_test = prep_test.df\n",
    "df.head()"
   ]
  },
  {
   "cell_type": "code",
   "execution_count": 4,
   "metadata": {},
   "outputs": [],
   "source": [
    "X_train, y_train = df['Text'], df['Class']"
   ]
  },
  {
   "cell_type": "code",
   "execution_count": 5,
   "metadata": {},
   "outputs": [],
   "source": [
    "maxlen = 50\n",
    "num_words = 10000\n",
    "tokenizer = Tokenizer(num_words=num_words)"
   ]
  },
  {
   "cell_type": "code",
   "execution_count": 6,
   "metadata": {},
   "outputs": [],
   "source": [
    "tokenizer.fit_on_texts(X_train)"
   ]
  },
  {
   "cell_type": "code",
   "execution_count": 7,
   "metadata": {},
   "outputs": [],
   "source": [
    "sequences = tokenizer.texts_to_sequences(X_train)"
   ]
  },
  {
   "cell_type": "code",
   "execution_count": 8,
   "metadata": {},
   "outputs": [
    {
     "name": "stdout",
     "output_type": "stream",
     "text": [
      "trump supporter need 4 democrats socialist squad racist trump america supporters america freedom speech trump hyper rally socialist democratic squad rally rally say send migrant socialist democratic\n",
      "[3, 30, 42, 116, 76, 209, 106, 7, 3, 74, 1930, 74, 530, 225, 3, 1931, 10, 209, 290, 106, 10, 10, 9, 1, 756, 209, 290]\n"
     ]
    }
   ],
   "source": [
    "index = 0\n",
    "print(X_train[index])\n",
    "print(sequences[index])"
   ]
  },
  {
   "cell_type": "code",
   "execution_count": 9,
   "metadata": {},
   "outputs": [],
   "source": [
    "X_train = pad_sequences(sequences, maxlen=maxlen)"
   ]
  },
  {
   "cell_type": "code",
   "execution_count": 10,
   "metadata": {},
   "outputs": [
    {
     "data": {
      "text/plain": [
       "array([[   0,    0,    0,    0,    0,    0,    0,    0,    0,    0,    0,\n",
       "           0,    0,    0,    0,    0,    0,    0,    0,    0,    0,    0,\n",
       "           0,    3,   30,   42,  116,   76,  209,  106,    7,    3,   74,\n",
       "        1930,   74,  530,  225,    3, 1931,   10,  209,  290,  106,   10,\n",
       "          10,    9,    1,  756,  209,  290],\n",
       "       [   0,    0,    0,    0,    0,    0,    0,    0,    0,    0,    0,\n",
       "           0,    0,    0,    0,    0,    0,    0,    0,    0,    0,    0,\n",
       "           0,    0,    1,   57, 1252,  182,    4,    6,  463,  757, 1932,\n",
       "         150,   17,  150,  210,  363,   61,  150,  151, 1933,  196,  409,\n",
       "        1934,   20,    3,  117,   44, 1935]])"
      ]
     },
     "execution_count": 10,
     "metadata": {},
     "output_type": "execute_result"
    }
   ],
   "source": [
    "X_train[:2]"
   ]
  },
  {
   "cell_type": "code",
   "execution_count": 35,
   "metadata": {},
   "outputs": [],
   "source": [
    "model = Sequential()\n",
    "model.add(Embedding(num_words, 100, input_length=maxlen))\n",
    "model.add(SpatialDropout1D(0.2))\n",
    "model.add(LSTM(512, return_sequences=True))\n",
    "model.add(LSTM(128, return_sequences=True))\n",
    "model.add(LSTM(10))\n",
    "model.add(Dense(1, activation='sigmoid'))"
   ]
  },
  {
   "cell_type": "code",
   "execution_count": 36,
   "metadata": {},
   "outputs": [],
   "source": [
    "model.compile(optimizer='nadam', \n",
    "              loss='binary_crossentropy', \n",
    "              metrics=['accuracy', 'AUC'])"
   ]
  },
  {
   "cell_type": "code",
   "execution_count": 37,
   "metadata": {},
   "outputs": [],
   "source": [
    "model_save_path = 'best_model.h5'\n",
    "checkpoint_callback = ModelCheckpoint(model_save_path, \n",
    "                                      monitor='val_accuracy',\n",
    "                                      save_best_only=True,\n",
    "                                      verbose=1)"
   ]
  },
  {
   "cell_type": "code",
   "execution_count": 38,
   "metadata": {},
   "outputs": [
    {
     "name": "stdout",
     "output_type": "stream",
     "text": [
      "Epoch 1/10\n",
      "38/38 [==============================] - 15s 306ms/step - loss: 0.6703 - accuracy: 0.6183 - auc: 0.4929 - val_loss: 0.6903 - val_accuracy: 0.5700 - val_auc: 0.5000\n",
      "\n",
      "Epoch 00001: val_accuracy improved from -inf to 0.57000, saving model to best_model.h5\n",
      "Epoch 2/10\n",
      "38/38 [==============================] - 11s 296ms/step - loss: 0.6623 - accuracy: 0.6242 - auc: 0.5172 - val_loss: 0.6847 - val_accuracy: 0.5700 - val_auc: 0.5000\n",
      "\n",
      "Epoch 00002: val_accuracy did not improve from 0.57000\n",
      "Epoch 3/10\n",
      "38/38 [==============================] - 11s 299ms/step - loss: 0.6631 - accuracy: 0.6242 - auc: 0.4974 - val_loss: 0.6955 - val_accuracy: 0.5700 - val_auc: 0.5000\n",
      "\n",
      "Epoch 00003: val_accuracy did not improve from 0.57000\n",
      "Epoch 4/10\n",
      "38/38 [==============================] - 11s 301ms/step - loss: 0.6622 - accuracy: 0.6242 - auc: 0.5085 - val_loss: 0.6863 - val_accuracy: 0.5700 - val_auc: 0.5039\n",
      "\n",
      "Epoch 00004: val_accuracy did not improve from 0.57000\n",
      "Epoch 5/10\n",
      "38/38 [==============================] - 11s 297ms/step - loss: 0.6608 - accuracy: 0.6242 - auc: 0.5272 - val_loss: 0.6974 - val_accuracy: 0.5700 - val_auc: 0.5978\n",
      "\n",
      "Epoch 00005: val_accuracy did not improve from 0.57000\n",
      "Epoch 6/10\n",
      "38/38 [==============================] - 11s 299ms/step - loss: 0.6113 - accuracy: 0.6525 - auc: 0.7267 - val_loss: 0.7685 - val_accuracy: 0.5833 - val_auc: 0.7977\n",
      "\n",
      "Epoch 00006: val_accuracy improved from 0.57000 to 0.58333, saving model to best_model.h5\n",
      "Epoch 7/10\n",
      "38/38 [==============================] - 11s 297ms/step - loss: 0.3804 - accuracy: 0.8675 - auc: 0.9274 - val_loss: 0.5301 - val_accuracy: 0.7467 - val_auc: 0.8221\n",
      "\n",
      "Epoch 00007: val_accuracy improved from 0.58333 to 0.74667, saving model to best_model.h5\n",
      "Epoch 8/10\n",
      "38/38 [==============================] - 11s 298ms/step - loss: 0.2463 - accuracy: 0.9342 - auc: 0.9739 - val_loss: 0.7778 - val_accuracy: 0.7067 - val_auc: 0.8223\n",
      "\n",
      "Epoch 00008: val_accuracy did not improve from 0.74667\n",
      "Epoch 9/10\n",
      "38/38 [==============================] - 11s 298ms/step - loss: 0.1851 - accuracy: 0.9625 - auc: 0.9866 - val_loss: 0.5676 - val_accuracy: 0.7133 - val_auc: 0.8030\n",
      "\n",
      "Epoch 00009: val_accuracy did not improve from 0.74667\n",
      "Epoch 10/10\n",
      "38/38 [==============================] - 11s 299ms/step - loss: 0.1405 - accuracy: 0.9767 - auc: 0.9894 - val_loss: 0.6115 - val_accuracy: 0.7367 - val_auc: 0.8150\n",
      "\n",
      "Epoch 00010: val_accuracy did not improve from 0.74667\n"
     ]
    }
   ],
   "source": [
    "history = model.fit(X_train, \n",
    "                    y_train, \n",
    "                    epochs=10,\n",
    "                    validation_split=0.2,\n",
    "                    callbacks=[checkpoint_callback])"
   ]
  },
  {
   "cell_type": "code",
   "execution_count": 39,
   "metadata": {},
   "outputs": [
    {
     "data": {
      "image/png": "[encoded data removed]",
      "text/plain": [
       "<Figure size 432x288 with 1 Axes>"
      ]
     },
     "metadata": {
      "needs_background": "light"
     },
     "output_type": "display_data"
    }
   ],
   "source": [
    "plt.plot(history.history['accuracy'], \n",
    "         label='Доля верных ответов на обучающем наборе')\n",
    "plt.plot(history.history['val_accuracy'], \n",
    "         label='Доля верных ответов на проверочном наборе')\n",
    "plt.xlabel('Эпоха обучения')\n",
    "plt.ylabel('Доля верных ответов')\n",
    "plt.legend()\n",
    "plt.show()"
   ]
  },
  {
   "cell_type": "code",
   "execution_count": 40,
   "metadata": {},
   "outputs": [],
   "source": [
    "test_sequences = tokenizer.texts_to_sequences(df_test['Text'])"
   ]
  },
  {
   "cell_type": "code",
   "execution_count": 41,
   "metadata": {},
   "outputs": [],
   "source": [
    "X_test = pad_sequences(test_sequences, maxlen=maxlen)\n",
    "y_test = df_test['Class']"
   ]
  },
  {
   "cell_type": "code",
   "execution_count": 42,
   "metadata": {},
   "outputs": [],
   "source": [
    "model.load_weights(model_save_path)\n",
    "test_predict = model.predict(X_test)\n",
    "test_predict = np.where(test_predict >= 0.5,1,0)"
   ]
  },
  {
   "cell_type": "code",
   "execution_count": 43,
   "metadata": {},
   "outputs": [
    {
     "data": {
      "text/html": [
       "<div>\n",
       "<style scoped>\n",
       "    .dataframe tbody tr th:only-of-type {\n",
       "        vertical-align: middle;\n",
       "    }\n",
       "\n",
       "    .dataframe tbody tr th {\n",
       "        vertical-align: top;\n",
       "    }\n",
       "\n",
       "    .dataframe thead th {\n",
       "        text-align: right;\n",
       "    }\n",
       "</style>\n",
       "<table border=\"1\" class=\"dataframe\">\n",
       "  <thead>\n",
       "    <tr style=\"text-align: right;\">\n",
       "      <th></th>\n",
       "      <th>ID</th>\n",
       "      <th>Text</th>\n",
       "      <th>Class</th>\n",
       "    </tr>\n",
       "  </thead>\n",
       "  <tbody>\n",
       "    <tr>\n",
       "      <th>0</th>\n",
       "      <td>1</td>\n",
       "      <td>ye bhi illegal immigrant lag rah hai arc regis...</td>\n",
       "      <td>1</td>\n",
       "    </tr>\n",
       "    <tr>\n",
       "      <th>1</th>\n",
       "      <td>2</td>\n",
       "      <td>yeah ask skirt today say ass like do not time ...</td>\n",
       "      <td>0</td>\n",
       "    </tr>\n",
       "    <tr>\n",
       "      <th>2</th>\n",
       "      <td>3</td>\n",
       "      <td>need clean selective hearing cobwebs ear tell ...</td>\n",
       "      <td>1</td>\n",
       "    </tr>\n",
       "    <tr>\n",
       "      <th>3</th>\n",
       "      <td>4</td>\n",
       "      <td>easy complain criticize offer solution close b...</td>\n",
       "      <td>1</td>\n",
       "    </tr>\n",
       "    <tr>\n",
       "      <th>4</th>\n",
       "      <td>5</td>\n",
       "      <td>guess send - -PRON- - back policy friend hit l...</td>\n",
       "      <td>0</td>\n",
       "    </tr>\n",
       "  </tbody>\n",
       "</table>\n",
       "</div>"
      ],
      "text/plain": [
       "   ID                                               Text  Class\n",
       "0   1  ye bhi illegal immigrant lag rah hai arc regis...      1\n",
       "1   2  yeah ask skirt today say ass like do not time ...      0\n",
       "2   3  need clean selective hearing cobwebs ear tell ...      1\n",
       "3   4  easy complain criticize offer solution close b...      1\n",
       "4   5  guess send - -PRON- - back policy friend hit l...      0"
      ]
     },
     "execution_count": 43,
     "metadata": {},
     "output_type": "execute_result"
    }
   ],
   "source": [
    "df_test['Class'] = test_predict\n",
    "df_test.head()"
   ]
  },
  {
   "cell_type": "code",
   "execution_count": 44,
   "metadata": {},
   "outputs": [],
   "source": [
    "df_test.drop('Text', axis=1).to_csv('test_lstm.csv', index=False, sep=',')"
   ]
  },
  {
   "cell_type": "markdown",
   "metadata": {},
   "source": [
    "Kaggle ~0.72500"
   ]
  },
  {
   "cell_type": "code",
   "execution_count": null,
   "metadata": {},
   "outputs": [],
   "source": []
  }
 ],
 "metadata": {
  "kernelspec": {
   "display_name": "Python 3",
   "language": "python",
   "name": "python3"
  },
  "language_info": {
   "codemirror_mode": {
    "name": "ipython",
    "version": 3
   },
   "file_extension": ".py",
   "mimetype": "text/x-python",
   "name": "python",
   "nbconvert_exporter": "python",
   "pygments_lexer": "ipython3",
   "version": "3.9.1"
  }
 },
 "nbformat": 4,
 "nbformat_minor": 4
}
