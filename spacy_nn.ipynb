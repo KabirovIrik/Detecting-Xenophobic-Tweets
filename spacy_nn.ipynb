{
 "cells": [
  {
   "cell_type": "code",
   "execution_count": 5,
   "metadata": {},
   "outputs": [],
   "source": [
    "from tensorflow.keras.models import Sequential\n",
    "from tensorflow.keras.layers import Dense, Dropout\n",
    "from tensorflow.keras import utils\n",
    "from tensorflow.keras.preprocessing.sequence import pad_sequences\n",
    "from tensorflow.keras.preprocessing.text import Tokenizer\n",
    "from tensorflow.keras.callbacks import ModelCheckpoint\n",
    "import spacy\n",
    "import pandas as pd\n",
    "import numpy as np\n",
    "import matplotlib.pyplot as plt"
   ]
  },
  {
   "cell_type": "code",
   "execution_count": 6,
   "metadata": {},
   "outputs": [],
   "source": [
    "# Create our list of stopwords\n",
    "nlp = spacy.load('en_core_web_lg')\n",
    "stop_words = spacy.lang.en.stop_words.STOP_WORDS"
   ]
  },
  {
   "cell_type": "code",
   "execution_count": 7,
   "metadata": {},
   "outputs": [
    {
     "data": {
      "text/html": [
       "<div>\n",
       "<style scoped>\n",
       "    .dataframe tbody tr th:only-of-type {\n",
       "        vertical-align: middle;\n",
       "    }\n",
       "\n",
       "    .dataframe tbody tr th {\n",
       "        vertical-align: top;\n",
       "    }\n",
       "\n",
       "    .dataframe thead th {\n",
       "        text-align: right;\n",
       "    }\n",
       "</style>\n",
       "<table border=\"1\" class=\"dataframe\">\n",
       "  <thead>\n",
       "    <tr style=\"text-align: right;\">\n",
       "      <th></th>\n",
       "      <th>ID</th>\n",
       "      <th>Text</th>\n",
       "      <th>Class</th>\n",
       "    </tr>\n",
       "  </thead>\n",
       "  <tbody>\n",
       "    <tr>\n",
       "      <th>0</th>\n",
       "      <td>1</td>\n",
       "      <td>Trump supporters needed to say the 4 Democrats...</td>\n",
       "      <td>0</td>\n",
       "    </tr>\n",
       "    <tr>\n",
       "      <th>1</th>\n",
       "      <td>2</td>\n",
       "      <td>Send them back!!Why the hell are they even her...</td>\n",
       "      <td>1</td>\n",
       "    </tr>\n",
       "    <tr>\n",
       "      <th>2</th>\n",
       "      <td>3</td>\n",
       "      <td>Yeah...Im wondering if send them back works fo...</td>\n",
       "      <td>1</td>\n",
       "    </tr>\n",
       "    <tr>\n",
       "      <th>3</th>\n",
       "      <td>4</td>\n",
       "      <td>I know you realize you cant pretend that you d...</td>\n",
       "      <td>1</td>\n",
       "    </tr>\n",
       "    <tr>\n",
       "      <th>4</th>\n",
       "      <td>5</td>\n",
       "      <td>Donny, you owe all people an apology for appla...</td>\n",
       "      <td>0</td>\n",
       "    </tr>\n",
       "  </tbody>\n",
       "</table>\n",
       "</div>"
      ],
      "text/plain": [
       "   ID                                               Text  Class\n",
       "0   1  Trump supporters needed to say the 4 Democrats...      0\n",
       "1   2  Send them back!!Why the hell are they even her...      1\n",
       "2   3  Yeah...Im wondering if send them back works fo...      1\n",
       "3   4  I know you realize you cant pretend that you d...      1\n",
       "4   5  Donny, you owe all people an apology for appla...      0"
      ]
     },
     "execution_count": 7,
     "metadata": {},
     "output_type": "execute_result"
    }
   ],
   "source": [
    "df = pd.read_csv('TrainingDS.csv')\n",
    "df_sample = pd.read_csv('Sample Submission.csv')\n",
    "df_test = pd.read_csv('TestingDS.csv')\n",
    "df.head()"
   ]
  },
  {
   "cell_type": "code",
   "execution_count": 8,
   "metadata": {},
   "outputs": [
    {
     "data": {
      "text/plain": [
       "(1500, 300)"
      ]
     },
     "execution_count": 8,
     "metadata": {},
     "output_type": "execute_result"
    }
   ],
   "source": [
    "with nlp.disable_pipes():\n",
    "    doc_vectors = np.array([nlp(text).vector for text in df['Text']])\n",
    "    \n",
    "doc_vectors.shape"
   ]
  },
  {
   "cell_type": "code",
   "execution_count": 59,
   "metadata": {},
   "outputs": [],
   "source": [
    "model = Sequential()\n",
    "model.add(Dense(doc_vectors.shape[1], input_dim=doc_vectors.shape[1]))\n",
    "model.add(Dense(5000, kernel_initializer='he_normal', activation='relu'))\n",
    "model.add(Dropout(.2))\n",
    "model.add(Dense(2500, kernel_initializer='he_normal', activation='relu'))\n",
    "model.add(Dense(1000, kernel_initializer='he_normal', activation='relu'))\n",
    "model.add(Dense(500, kernel_initializer='he_normal', activation='relu'))\n",
    "model.add(Dense(1, activation='sigmoid'))"
   ]
  },
  {
   "cell_type": "code",
   "execution_count": 60,
   "metadata": {},
   "outputs": [],
   "source": [
    "model_save_path = 'best_model.h5'\n",
    "checkpoint_callback = ModelCheckpoint(model_save_path, \n",
    "                                      monitor='val_accuracy',\n",
    "                                      save_best_only=True,\n",
    "                                      verbose=1)"
   ]
  },
  {
   "cell_type": "code",
   "execution_count": 61,
   "metadata": {},
   "outputs": [],
   "source": [
    "model.compile(optimizer='nadam', \n",
    "              loss='binary_crossentropy', \n",
    "              metrics=['accuracy', 'AUC'])"
   ]
  },
  {
   "cell_type": "code",
   "execution_count": 62,
   "metadata": {
    "scrolled": false
   },
   "outputs": [
    {
     "name": "stdout",
     "output_type": "stream",
     "text": [
      "Epoch 1/10\n",
      "38/38 [==============================] - 6s 143ms/step - loss: 0.7144 - accuracy: 0.6883 - auc: 0.7234 - val_loss: 0.5150 - val_accuracy: 0.7600 - val_auc: 0.8529\n",
      "\n",
      "Epoch 00001: val_accuracy improved from -inf to 0.76000, saving model to best_model.h5\n",
      "Epoch 2/10\n",
      "38/38 [==============================] - 5s 139ms/step - loss: 0.4242 - accuracy: 0.8050 - auc: 0.8771 - val_loss: 0.7269 - val_accuracy: 0.7200 - val_auc: 0.8584\n",
      "\n",
      "Epoch 00002: val_accuracy did not improve from 0.76000\n",
      "Epoch 3/10\n",
      "38/38 [==============================] - 5s 144ms/step - loss: 0.3840 - accuracy: 0.8275 - auc: 0.9005 - val_loss: 0.5454 - val_accuracy: 0.7533 - val_auc: 0.8665\n",
      "\n",
      "Epoch 00003: val_accuracy did not improve from 0.76000\n",
      "Epoch 4/10\n",
      "38/38 [==============================] - 5s 144ms/step - loss: 0.3621 - accuracy: 0.8258 - auc: 0.9088 - val_loss: 0.5965 - val_accuracy: 0.7867 - val_auc: 0.8736\n",
      "\n",
      "Epoch 00004: val_accuracy improved from 0.76000 to 0.78667, saving model to best_model.h5\n",
      "Epoch 5/10\n",
      "38/38 [==============================] - 5s 139ms/step - loss: 0.3341 - accuracy: 0.8567 - auc: 0.9277 - val_loss: 0.4754 - val_accuracy: 0.7567 - val_auc: 0.8598\n",
      "\n",
      "Epoch 00005: val_accuracy did not improve from 0.78667\n",
      "Epoch 6/10\n",
      "38/38 [==============================] - 5s 145ms/step - loss: 0.3363 - accuracy: 0.8517 - auc: 0.9243 - val_loss: 0.9468 - val_accuracy: 0.6967 - val_auc: 0.8552\n",
      "\n",
      "Epoch 00006: val_accuracy did not improve from 0.78667\n",
      "Epoch 7/10\n",
      "38/38 [==============================] - 5s 139ms/step - loss: 0.3009 - accuracy: 0.8733 - auc: 0.9420 - val_loss: 0.5794 - val_accuracy: 0.7900 - val_auc: 0.8820\n",
      "\n",
      "Epoch 00007: val_accuracy improved from 0.78667 to 0.79000, saving model to best_model.h5\n",
      "Epoch 8/10\n",
      "38/38 [==============================] - 5s 141ms/step - loss: 0.3479 - accuracy: 0.8700 - auc: 0.9282 - val_loss: 0.6729 - val_accuracy: 0.7833 - val_auc: 0.8636\n",
      "\n",
      "Epoch 00008: val_accuracy did not improve from 0.79000\n",
      "Epoch 9/10\n",
      "38/38 [==============================] - 5s 143ms/step - loss: 0.3680 - accuracy: 0.8400 - auc: 0.9173 - val_loss: 0.5179 - val_accuracy: 0.7833 - val_auc: 0.8671\n",
      "\n",
      "Epoch 00009: val_accuracy did not improve from 0.79000\n",
      "Epoch 10/10\n",
      "38/38 [==============================] - 5s 145ms/step - loss: 0.2877 - accuracy: 0.8783 - auc: 0.9441 - val_loss: 0.7660 - val_accuracy: 0.7900 - val_auc: 0.8709\n",
      "\n",
      "Epoch 00010: val_accuracy did not improve from 0.79000\n"
     ]
    }
   ],
   "source": [
    "history = model.fit(doc_vectors, \n",
    "                    df['Class'], \n",
    "                    epochs=10,\n",
    "                    validation_split=0.2,\n",
    "                    callbacks=[checkpoint_callback])"
   ]
  },
  {
   "cell_type": "code",
   "execution_count": 63,
   "metadata": {},
   "outputs": [
    {
     "data": {
      "image/png": "[encoded data removed]",
      "text/plain": [
       "<Figure size 432x288 with 1 Axes>"
      ]
     },
     "metadata": {
      "needs_background": "light"
     },
     "output_type": "display_data"
    }
   ],
   "source": [
    "plt.plot(history.history['accuracy'], \n",
    "         label='Доля верных ответов на обучающем наборе')\n",
    "plt.plot(history.history['val_accuracy'], \n",
    "         label='Доля верных ответов на проверочном наборе')\n",
    "plt.xlabel('Эпоха обучения')\n",
    "plt.ylabel('Доля верных ответов')\n",
    "plt.legend()\n",
    "plt.show()"
   ]
  },
  {
   "cell_type": "code",
   "execution_count": 65,
   "metadata": {},
   "outputs": [
    {
     "data": {
      "text/plain": [
       "(500, 300)"
      ]
     },
     "execution_count": 65,
     "metadata": {},
     "output_type": "execute_result"
    }
   ],
   "source": [
    "with nlp.disable_pipes():\n",
    "    doc_vectors_test = np.array([nlp(text).vector for text in df_test.Text])\n",
    "doc_vectors_test.shape"
   ]
  },
  {
   "cell_type": "code",
   "execution_count": 66,
   "metadata": {},
   "outputs": [],
   "source": [
    "model.load_weights(model_save_path)\n",
    "test_predict = model.predict(doc_vectors_test)\n",
    "test_predict = np.where(test_predict >= 0.5,1,0)"
   ]
  },
  {
   "cell_type": "code",
   "execution_count": 67,
   "metadata": {},
   "outputs": [
    {
     "data": {
      "text/html": [
       "<div>\n",
       "<style scoped>\n",
       "    .dataframe tbody tr th:only-of-type {\n",
       "        vertical-align: middle;\n",
       "    }\n",
       "\n",
       "    .dataframe tbody tr th {\n",
       "        vertical-align: top;\n",
       "    }\n",
       "\n",
       "    .dataframe thead th {\n",
       "        text-align: right;\n",
       "    }\n",
       "</style>\n",
       "<table border=\"1\" class=\"dataframe\">\n",
       "  <thead>\n",
       "    <tr style=\"text-align: right;\">\n",
       "      <th></th>\n",
       "      <th>ID</th>\n",
       "      <th>Text</th>\n",
       "      <th>Class</th>\n",
       "    </tr>\n",
       "  </thead>\n",
       "  <tbody>\n",
       "    <tr>\n",
       "      <th>0</th>\n",
       "      <td>1</td>\n",
       "      <td>Ye bhi illegal immigrant lag rahi hai -- NRC r...</td>\n",
       "      <td>0</td>\n",
       "    </tr>\n",
       "    <tr>\n",
       "      <th>1</th>\n",
       "      <td>2</td>\n",
       "      <td>Yeah I asked someone about her skirt today and...</td>\n",
       "      <td>0</td>\n",
       "    </tr>\n",
       "    <tr>\n",
       "      <th>2</th>\n",
       "      <td>3</td>\n",
       "      <td>You need to clean your SELECTIVE HEARING COBWE...</td>\n",
       "      <td>0</td>\n",
       "    </tr>\n",
       "    <tr>\n",
       "      <th>3</th>\n",
       "      <td>4</td>\n",
       "      <td>It easy to complain and criticize with no offe...</td>\n",
       "      <td>1</td>\n",
       "    </tr>\n",
       "    <tr>\n",
       "      <th>4</th>\n",
       "      <td>5</td>\n",
       "      <td>Guess the send-them-back policy of your friend...</td>\n",
       "      <td>1</td>\n",
       "    </tr>\n",
       "  </tbody>\n",
       "</table>\n",
       "</div>"
      ],
      "text/plain": [
       "   ID                                               Text  Class\n",
       "0   1  Ye bhi illegal immigrant lag rahi hai -- NRC r...      0\n",
       "1   2  Yeah I asked someone about her skirt today and...      0\n",
       "2   3  You need to clean your SELECTIVE HEARING COBWE...      0\n",
       "3   4  It easy to complain and criticize with no offe...      1\n",
       "4   5  Guess the send-them-back policy of your friend...      1"
      ]
     },
     "execution_count": 67,
     "metadata": {},
     "output_type": "execute_result"
    }
   ],
   "source": [
    "df_test['Class'] = test_predict\n",
    "df_test.head()"
   ]
  },
  {
   "cell_type": "code",
   "execution_count": 68,
   "metadata": {},
   "outputs": [],
   "source": [
    "df_test.drop('Text', axis=1).to_csv('test_sp_nn.csv', index=False, sep=',')"
   ]
  },
  {
   "cell_type": "code",
   "execution_count": null,
   "metadata": {},
   "outputs": [],
   "source": []
  }
 ],
 "metadata": {
  "kernelspec": {
   "display_name": "Python 3",
   "language": "python",
   "name": "python3"
  },
  "language_info": {
   "codemirror_mode": {
    "name": "ipython",
    "version": 3
   },
   "file_extension": ".py",
   "mimetype": "text/x-python",
   "name": "python",
   "nbconvert_exporter": "python",
   "pygments_lexer": "ipython3",
   "version": "3.9.1"
  }
 },
 "nbformat": 4,
 "nbformat_minor": 4
}
