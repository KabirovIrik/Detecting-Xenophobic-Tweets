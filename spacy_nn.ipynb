{
 "cells": [
  {
   "cell_type": "code",
   "execution_count": 80,
   "metadata": {},
   "outputs": [],
   "source": [
    "from tensorflow.keras.models import Sequential\n",
    "from tensorflow.keras.layers import Dense, Dropout\n",
    "from tensorflow.keras import utils\n",
    "from tensorflow.keras.preprocessing.sequence import pad_sequences\n",
    "from tensorflow.keras.preprocessing.text import Tokenizer\n",
    "from tensorflow.keras.callbacks import ModelCheckpoint\n",
    "import tensorflow as tf\n",
    "import spacy\n",
    "import pandas as pd\n",
    "import numpy as np\n",
    "import matplotlib.pyplot as plt"
   ]
  },
  {
   "cell_type": "code",
   "execution_count": 6,
   "metadata": {},
   "outputs": [],
   "source": [
    "# Create our list of stopwords\n",
    "nlp = spacy.load('en_core_web_lg')\n",
    "stop_words = spacy.lang.en.stop_words.STOP_WORDS"
   ]
  },
  {
   "cell_type": "code",
   "execution_count": 7,
   "metadata": {},
   "outputs": [
    {
     "data": {
      "text/html": [
       "<div>\n",
       "<style scoped>\n",
       "    .dataframe tbody tr th:only-of-type {\n",
       "        vertical-align: middle;\n",
       "    }\n",
       "\n",
       "    .dataframe tbody tr th {\n",
       "        vertical-align: top;\n",
       "    }\n",
       "\n",
       "    .dataframe thead th {\n",
       "        text-align: right;\n",
       "    }\n",
       "</style>\n",
       "<table border=\"1\" class=\"dataframe\">\n",
       "  <thead>\n",
       "    <tr style=\"text-align: right;\">\n",
       "      <th></th>\n",
       "      <th>ID</th>\n",
       "      <th>Text</th>\n",
       "      <th>Class</th>\n",
       "    </tr>\n",
       "  </thead>\n",
       "  <tbody>\n",
       "    <tr>\n",
       "      <th>0</th>\n",
       "      <td>1</td>\n",
       "      <td>Trump supporters needed to say the 4 Democrats...</td>\n",
       "      <td>0</td>\n",
       "    </tr>\n",
       "    <tr>\n",
       "      <th>1</th>\n",
       "      <td>2</td>\n",
       "      <td>Send them back!!Why the hell are they even her...</td>\n",
       "      <td>1</td>\n",
       "    </tr>\n",
       "    <tr>\n",
       "      <th>2</th>\n",
       "      <td>3</td>\n",
       "      <td>Yeah...Im wondering if send them back works fo...</td>\n",
       "      <td>1</td>\n",
       "    </tr>\n",
       "    <tr>\n",
       "      <th>3</th>\n",
       "      <td>4</td>\n",
       "      <td>I know you realize you cant pretend that you d...</td>\n",
       "      <td>1</td>\n",
       "    </tr>\n",
       "    <tr>\n",
       "      <th>4</th>\n",
       "      <td>5</td>\n",
       "      <td>Donny, you owe all people an apology for appla...</td>\n",
       "      <td>0</td>\n",
       "    </tr>\n",
       "  </tbody>\n",
       "</table>\n",
       "</div>"
      ],
      "text/plain": [
       "   ID                                               Text  Class\n",
       "0   1  Trump supporters needed to say the 4 Democrats...      0\n",
       "1   2  Send them back!!Why the hell are they even her...      1\n",
       "2   3  Yeah...Im wondering if send them back works fo...      1\n",
       "3   4  I know you realize you cant pretend that you d...      1\n",
       "4   5  Donny, you owe all people an apology for appla...      0"
      ]
     },
     "execution_count": 7,
     "metadata": {},
     "output_type": "execute_result"
    }
   ],
   "source": [
    "df = pd.read_csv('TrainingDS.csv')\n",
    "df_sample = pd.read_csv('Sample Submission.csv')\n",
    "df_test = pd.read_csv('TestingDS.csv')\n",
    "df.head()"
   ]
  },
  {
   "cell_type": "code",
   "execution_count": 8,
   "metadata": {},
   "outputs": [
    {
     "data": {
      "text/plain": [
       "(1500, 300)"
      ]
     },
     "execution_count": 8,
     "metadata": {},
     "output_type": "execute_result"
    }
   ],
   "source": [
    "with nlp.disable_pipes():\n",
    "    doc_vectors = np.array([nlp(text).vector for text in df['Text']])\n",
    "    \n",
    "doc_vectors.shape"
   ]
  },
  {
   "cell_type": "code",
   "execution_count": 99,
   "metadata": {},
   "outputs": [],
   "source": [
    "tf.random.set_seed(42)\n",
    "np.random.seed(42)\n",
    "\n",
    "model = Sequential()\n",
    "model.add(Dense(doc_vectors.shape[1], input_dim=doc_vectors.shape[1]))\n",
    "model.add(Dense(5000, kernel_initializer='he_normal', activation='relu'))\n",
    "model.add(Dropout(.2))\n",
    "model.add(Dense(1000, kernel_initializer='he_normal', activation='relu'))\n",
    "model.add(Dense(100, kernel_initializer='he_normal', activation='relu'))\n",
    "model.add(Dropout(.1))\n",
    "model.add(Dense(1, activation='sigmoid'))"
   ]
  },
  {
   "cell_type": "code",
   "execution_count": 100,
   "metadata": {},
   "outputs": [],
   "source": [
    "model_save_path = 'best_model.h5'\n",
    "checkpoint_callback = ModelCheckpoint(model_save_path, \n",
    "                                      monitor='val_accuracy',\n",
    "                                      save_best_only=True,\n",
    "                                      verbose=1)"
   ]
  },
  {
   "cell_type": "code",
   "execution_count": 101,
   "metadata": {},
   "outputs": [],
   "source": [
    "model.compile(optimizer='nadam', \n",
    "              loss='binary_crossentropy', \n",
    "              metrics=['accuracy', 'AUC'])"
   ]
  },
  {
   "cell_type": "code",
   "execution_count": 102,
   "metadata": {
    "scrolled": false
   },
   "outputs": [
    {
     "name": "stdout",
     "output_type": "stream",
     "text": [
      "Epoch 1/10\n",
      "38/38 [==============================] - 3s 60ms/step - loss: 0.6063 - accuracy: 0.7075 - auc: 0.7600 - val_loss: 0.4902 - val_accuracy: 0.7733 - val_auc: 0.8459\n",
      "\n",
      "Epoch 00001: val_accuracy improved from -inf to 0.77333, saving model to best_model.h5\n",
      "Epoch 2/10\n",
      "38/38 [==============================] - 2s 58ms/step - loss: 0.4216 - accuracy: 0.8050 - auc: 0.8797 - val_loss: 0.4884 - val_accuracy: 0.7500 - val_auc: 0.8511\n",
      "\n",
      "Epoch 00002: val_accuracy did not improve from 0.77333\n",
      "Epoch 3/10\n",
      "38/38 [==============================] - 2s 56ms/step - loss: 0.3765 - accuracy: 0.8250 - auc: 0.9044 - val_loss: 0.4747 - val_accuracy: 0.7667 - val_auc: 0.8653\n",
      "\n",
      "Epoch 00003: val_accuracy did not improve from 0.77333\n",
      "Epoch 4/10\n",
      "38/38 [==============================] - 2s 58ms/step - loss: 0.3582 - accuracy: 0.8308 - auc: 0.9145 - val_loss: 0.4528 - val_accuracy: 0.7867 - val_auc: 0.8681\n",
      "\n",
      "Epoch 00004: val_accuracy improved from 0.77333 to 0.78667, saving model to best_model.h5\n",
      "Epoch 5/10\n",
      "38/38 [==============================] - 2s 59ms/step - loss: 0.3052 - accuracy: 0.8650 - auc: 0.9374 - val_loss: 0.4647 - val_accuracy: 0.7900 - val_auc: 0.8814\n",
      "\n",
      "Epoch 00005: val_accuracy improved from 0.78667 to 0.79000, saving model to best_model.h5\n",
      "Epoch 6/10\n",
      "38/38 [==============================] - 2s 57ms/step - loss: 0.2707 - accuracy: 0.8858 - auc: 0.9517 - val_loss: 0.4945 - val_accuracy: 0.8167 - val_auc: 0.8898\n",
      "\n",
      "Epoch 00006: val_accuracy improved from 0.79000 to 0.81667, saving model to best_model.h5\n",
      "Epoch 7/10\n",
      "38/38 [==============================] - 2s 57ms/step - loss: 0.2648 - accuracy: 0.8850 - auc: 0.9532 - val_loss: 0.4502 - val_accuracy: 0.7933 - val_auc: 0.8849\n",
      "\n",
      "Epoch 00007: val_accuracy did not improve from 0.81667\n",
      "Epoch 8/10\n",
      "38/38 [==============================] - 2s 58ms/step - loss: 0.2437 - accuracy: 0.8892 - auc: 0.9615 - val_loss: 0.5838 - val_accuracy: 0.7667 - val_auc: 0.8639\n",
      "\n",
      "Epoch 00008: val_accuracy did not improve from 0.81667\n",
      "Epoch 9/10\n",
      "38/38 [==============================] - 2s 58ms/step - loss: 0.1946 - accuracy: 0.9283 - auc: 0.9752 - val_loss: 0.6261 - val_accuracy: 0.7833 - val_auc: 0.8747\n",
      "\n",
      "Epoch 00009: val_accuracy did not improve from 0.81667\n",
      "Epoch 10/10\n",
      "38/38 [==============================] - 2s 60ms/step - loss: 0.2733 - accuracy: 0.9008 - auc: 0.9577 - val_loss: 0.4921 - val_accuracy: 0.7567 - val_auc: 0.8716\n",
      "\n",
      "Epoch 00010: val_accuracy did not improve from 0.81667\n"
     ]
    }
   ],
   "source": [
    "history = model.fit(doc_vectors, \n",
    "                    df['Class'], \n",
    "                    epochs=10,\n",
    "                    validation_split=0.2,\n",
    "                    callbacks=[checkpoint_callback])"
   ]
  },
  {
   "cell_type": "code",
   "execution_count": 103,
   "metadata": {},
   "outputs": [
    {
     "data": {
      "image/png": "[encoded data removed]",
      "text/plain": [
       "<Figure size 432x288 with 1 Axes>"
      ]
     },
     "metadata": {
      "needs_background": "light"
     },
     "output_type": "display_data"
    }
   ],
   "source": [
    "plt.plot(history.history['accuracy'], \n",
    "         label='Доля верных ответов на обучающем наборе')\n",
    "plt.plot(history.history['val_accuracy'], \n",
    "         label='Доля верных ответов на проверочном наборе')\n",
    "plt.xlabel('Эпоха обучения')\n",
    "plt.ylabel('Доля верных ответов')\n",
    "plt.legend()\n",
    "plt.show()"
   ]
  },
  {
   "cell_type": "code",
   "execution_count": 104,
   "metadata": {},
   "outputs": [
    {
     "data": {
      "text/plain": [
       "(500, 300)"
      ]
     },
     "execution_count": 104,
     "metadata": {},
     "output_type": "execute_result"
    }
   ],
   "source": [
    "with nlp.disable_pipes():\n",
    "    doc_vectors_test = np.array([nlp(text).vector for text in df_test.Text])\n",
    "doc_vectors_test.shape"
   ]
  },
  {
   "cell_type": "code",
   "execution_count": 105,
   "metadata": {},
   "outputs": [],
   "source": [
    "model.load_weights(model_save_path)\n",
    "test_predict = model.predict(doc_vectors_test)\n",
    "test_predict = np.where(test_predict >= 0.5,1,0)"
   ]
  },
  {
   "cell_type": "code",
   "execution_count": 106,
   "metadata": {},
   "outputs": [
    {
     "data": {
      "text/html": [
       "<div>\n",
       "<style scoped>\n",
       "    .dataframe tbody tr th:only-of-type {\n",
       "        vertical-align: middle;\n",
       "    }\n",
       "\n",
       "    .dataframe tbody tr th {\n",
       "        vertical-align: top;\n",
       "    }\n",
       "\n",
       "    .dataframe thead th {\n",
       "        text-align: right;\n",
       "    }\n",
       "</style>\n",
       "<table border=\"1\" class=\"dataframe\">\n",
       "  <thead>\n",
       "    <tr style=\"text-align: right;\">\n",
       "      <th></th>\n",
       "      <th>ID</th>\n",
       "      <th>Text</th>\n",
       "      <th>Class</th>\n",
       "    </tr>\n",
       "  </thead>\n",
       "  <tbody>\n",
       "    <tr>\n",
       "      <th>0</th>\n",
       "      <td>1</td>\n",
       "      <td>Ye bhi illegal immigrant lag rahi hai -- NRC r...</td>\n",
       "      <td>1</td>\n",
       "    </tr>\n",
       "    <tr>\n",
       "      <th>1</th>\n",
       "      <td>2</td>\n",
       "      <td>Yeah I asked someone about her skirt today and...</td>\n",
       "      <td>0</td>\n",
       "    </tr>\n",
       "    <tr>\n",
       "      <th>2</th>\n",
       "      <td>3</td>\n",
       "      <td>You need to clean your SELECTIVE HEARING COBWE...</td>\n",
       "      <td>0</td>\n",
       "    </tr>\n",
       "    <tr>\n",
       "      <th>3</th>\n",
       "      <td>4</td>\n",
       "      <td>It easy to complain and criticize with no offe...</td>\n",
       "      <td>1</td>\n",
       "    </tr>\n",
       "    <tr>\n",
       "      <th>4</th>\n",
       "      <td>5</td>\n",
       "      <td>Guess the send-them-back policy of your friend...</td>\n",
       "      <td>1</td>\n",
       "    </tr>\n",
       "  </tbody>\n",
       "</table>\n",
       "</div>"
      ],
      "text/plain": [
       "   ID                                               Text  Class\n",
       "0   1  Ye bhi illegal immigrant lag rahi hai -- NRC r...      1\n",
       "1   2  Yeah I asked someone about her skirt today and...      0\n",
       "2   3  You need to clean your SELECTIVE HEARING COBWE...      0\n",
       "3   4  It easy to complain and criticize with no offe...      1\n",
       "4   5  Guess the send-them-back policy of your friend...      1"
      ]
     },
     "execution_count": 106,
     "metadata": {},
     "output_type": "execute_result"
    }
   ],
   "source": [
    "df_test['Class'] = test_predict\n",
    "df_test.head()"
   ]
  },
  {
   "cell_type": "code",
   "execution_count": 107,
   "metadata": {},
   "outputs": [],
   "source": [
    "df_test.drop('Text', axis=1).to_csv('test_sp_nn.csv', index=False, sep=',')"
   ]
  },
  {
   "cell_type": "code",
   "execution_count": null,
   "metadata": {},
   "outputs": [],
   "source": []
  }
 ],
 "metadata": {
  "kernelspec": {
   "display_name": "Python 3",
   "language": "python",
   "name": "python3"
  },
  "language_info": {
   "codemirror_mode": {
    "name": "ipython",
    "version": 3
   },
   "file_extension": ".py",
   "mimetype": "text/x-python",
   "name": "python",
   "nbconvert_exporter": "python",
   "pygments_lexer": "ipython3",
   "version": "3.9.1"
  }
 },
 "nbformat": 4,
 "nbformat_minor": 4
}
